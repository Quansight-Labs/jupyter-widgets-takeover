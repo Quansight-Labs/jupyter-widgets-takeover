{
 "cells": [
  {
   "cell_type": "code",
   "execution_count": 3,
   "metadata": {},
   "outputs": [],
   "source": [
    "class Workspace:\n",
    "    def __init__(self, workspace):\n",
    "        self.workspace = workspace\n",
    "    def _repr_mimebundle_(self, include=None, exclude=None):\n",
    "        return {\n",
    "            \"application/x.jupyterlab.workspace+json\": self.workspace\n",
    "        }"
   ]
  },
  {
   "cell_type": "code",
   "execution_count": 9,
   "metadata": {},
   "outputs": [
    {
     "data": {
      "application/x.jupyterlab.workspace+json": {
       "@jupyterlab/settingeditor-extension:plugin": {
        "container": {
         "plugin": "@jupyterlab/filebrowser-extension:browser",
         "sizes": [
          0.4791970802919708,
          0.5208029197080292
         ]
        },
        "sizes": [
         0.11319534282018111,
         0.8868046571798189
        ]
       },
       "application-mimedocuments:package.json:JSON": {
        "data": {
         "factory": "JSON",
         "path": "package.json"
        }
       },
       "application-mimedocuments:tmp.json:JSON": {
        "data": {
         "factory": "JSON",
         "path": "tmp.json"
        }
       },
       "cloned-outputs:explorations/Untitled6.ipynb:17": {
        "data": {
         "index": 17,
         "path": "explorations/Untitled6.ipynb"
        }
       },
       "file-browser-filebrowser:cwd": {
        "path": ""
       },
       "layout-restorer:data": {
        "left": {
         "collapsed": false,
         "current": "filebrowser",
         "widgets": [
          "filebrowser",
          "running-sessions",
          "command-palette",
          "tab-manager"
         ]
        },
        "main": {
         "dock": {
          "children": [
           {
            "currentIndex": 0,
            "type": "tab-area",
            "widgets": []
           },
           {
            "children": [
             {
              "currentIndex": 0,
              "type": "tab-area",
              "widgets": [
               "application-mimedocuments:tmp.json:JSON"
              ]
             },
             {
              "currentIndex": 0,
              "type": "tab-area",
              "widgets": [
               "application-mimedocuments:package.json:JSON"
              ]
             }
            ],
            "orientation": "vertical",
            "sizes": [
             0.2,
             0.8
            ],
            "type": "split-area"
           }
          ],
          "orientation": "horizontal",
          "sizes": [
           0.6180469715698393,
           0.3819530284301607
          ],
          "type": "split-area"
         },
         "mode": "multiple-document"
        },
        "right": {
         "collapsed": true,
         "widgets": []
        }
       },
       "notebook:examples/performance-charts.ipynb": {
        "data": {
         "factory": "Notebook",
         "path": "examples/performance-charts.ipynb"
        }
       }
      },
      "text/plain": [
       "<__main__.Workspace at 0x7fab00355670>"
      ]
     },
     "execution_count": 9,
     "metadata": {},
     "output_type": "execute_result"
    }
   ],
   "source": [
    "Workspace({\n",
    "    \"layout-restorer:data\": {\n",
    "      \"main\": {\n",
    "        \"dock\": {\n",
    "          \"type\": \"split-area\",\n",
    "          \"orientation\": \"horizontal\",\n",
    "          \"sizes\": [0.6180469715698393, 0.3819530284301607],\n",
    "          \"children\": [\n",
    "            { \"type\": \"tab-area\", \"currentIndex\": 0, \"widgets\": [] },\n",
    "            {\n",
    "              \"type\": \"split-area\",\n",
    "              \"orientation\": \"vertical\",\n",
    "              \"sizes\": [0.2, 0.8],\n",
    "              \"children\": [\n",
    "                {\n",
    "                  \"type\": \"tab-area\",\n",
    "                  \"currentIndex\": 0,\n",
    "                  \"widgets\": [\"application-mimedocuments:tmp.json:JSON\"]\n",
    "                },\n",
    "                {\n",
    "                  \"type\": \"tab-area\",\n",
    "                  \"currentIndex\": 0,\n",
    "                  \"widgets\": [\"application-mimedocuments:package.json:JSON\"]\n",
    "                }\n",
    "              ]\n",
    "            }\n",
    "          ]\n",
    "        },\n",
    "        \"mode\": \"multiple-document\"\n",
    "      },\n",
    "      \"left\": {\n",
    "        \"collapsed\": False,\n",
    "        \"current\": \"filebrowser\",\n",
    "        \"widgets\": [\n",
    "          \"filebrowser\",\n",
    "          \"running-sessions\",\n",
    "          \"command-palette\",\n",
    "          \"tab-manager\"\n",
    "        ]\n",
    "      },\n",
    "      \"right\": { \"collapsed\": True, \"widgets\": [] }\n",
    "    },\n",
    "    \"@jupyterlab/settingeditor-extension:plugin\": {\n",
    "      \"sizes\": [0.11319534282018111, 0.8868046571798189],\n",
    "      \"container\": {\n",
    "        \"plugin\": \"@jupyterlab/filebrowser-extension:browser\",\n",
    "        \"sizes\": [0.4791970802919708, 0.5208029197080292]\n",
    "      }\n",
    "    },\n",
    "    \"cloned-outputs:explorations/Untitled6.ipynb:17\": {\n",
    "      \"data\": { \"path\": \"explorations/Untitled6.ipynb\", \"index\": 17 }\n",
    "    },\n",
    "    \"file-browser-filebrowser:cwd\": { \"path\": \"\" },\n",
    "    \"notebook:examples/performance-charts.ipynb\": {\n",
    "      \"data\": {\n",
    "        \"path\": \"examples/performance-charts.ipynb\",\n",
    "        \"factory\": \"Notebook\"\n",
    "      }\n",
    "    },\n",
    "    \"application-mimedocuments:tmp.json:JSON\": {\n",
    "      \"data\": { \"path\": \"tmp.json\", \"factory\": \"JSON\" }\n",
    "    },\n",
    "    \"application-mimedocuments:package.json:JSON\": {\n",
    "      \"data\": { \"path\": \"package.json\", \"factory\": \"JSON\" }\n",
    "    }\n",
    "  },\n",
    ")"
   ]
  },
  {
   "cell_type": "code",
   "execution_count": 4,
   "metadata": {},
   "outputs": [],
   "source": [
    "import ipywidgets as widgets"
   ]
  },
  {
   "cell_type": "code",
   "execution_count": 5,
   "metadata": {},
   "outputs": [
    {
     "data": {
      "application/vnd.jupyter.widget-view+json": {
       "model_id": "1b8d0ead7a1240b7ab03120e7d1a37ca",
       "version_major": 2,
       "version_minor": 0
      },
      "text/plain": [
       "HBox(children=(VBox(children=(Label(value='0'), Label(value='1'), Label(value='4'))), VBox(children=(Label(val…"
      ]
     },
     "metadata": {},
     "output_type": "display_data"
    }
   ],
   "source": [
    "items = [widgets.Label(str(i)) for i in range(5)]\n",
    "left_box = widgets.VBox([items[0], items[1], items[4]])\n",
    "right_box = widgets.VBox([items[2], items[3]])\n",
    "widgets.HBox([left_box, right_box])"
   ]
  },
  {
   "cell_type": "code",
   "execution_count": 6,
   "metadata": {},
   "outputs": [
    {
     "data": {
      "application/vnd.jupyter.widget-view+json": {
       "model_id": "cd372a904dfd4ab28e465029df686687",
       "version_major": 2,
       "version_minor": 0
      },
      "text/plain": [
       "Tab(children=(Text(value='', description='P0'), Text(value='', description='P1'), Text(value='', description='…"
      ]
     },
     "metadata": {},
     "output_type": "display_data"
    }
   ],
   "source": [
    "\n",
    "tab_contents = ['P0', 'P1', 'P2', 'P3', 'P4']\n",
    "children = [widgets.Text(description=name) for name in tab_contents]\n",
    "tab = widgets.Tab()\n",
    "tab.children = children\n",
    "for i in range(len(children)):\n",
    "    tab.set_title(i, str(i))\n",
    "tab\n",
    "\n"
   ]
  },
  {
   "cell_type": "code",
   "execution_count": null,
   "metadata": {},
   "outputs": [],
   "source": []
  }
 ],
 "metadata": {
  "kernelspec": {
   "display_name": "Python 3",
   "language": "python",
   "name": "python3"
  },
  "language_info": {
   "codemirror_mode": {
    "name": "ipython",
    "version": 3
   },
   "file_extension": ".py",
   "mimetype": "text/x-python",
   "name": "python",
   "nbconvert_exporter": "python",
   "pygments_lexer": "ipython3",
   "version": "3.8.1"
  }
 },
 "nbformat": 4,
 "nbformat_minor": 4
}
